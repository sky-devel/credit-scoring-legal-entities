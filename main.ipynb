{
 "cells": [
  {
   "cell_type": "markdown",
   "id": "d5b1e001-a3ec-4811-bc12-ad5f9235cc47",
   "metadata": {},
   "source": [
    "# Кредитный скоринг юридических лиц"
   ]
  },
  {
   "cell_type": "markdown",
   "id": "2b5aea8d-a367-4b7f-87e0-4747acf0f3c3",
   "metadata": {},
   "source": [
    "## Задача: Разработать модель кредитного скоринга юридического лица. Модель должна позволить определить, следует ли выдавать кредит юридическому лицу по заданным признакам"
   ]
  },
  {
   "cell_type": "code",
   "execution_count": 1,
   "id": "bf13b804-3dc1-405b-9133-5b6ea3912bd8",
   "metadata": {},
   "outputs": [],
   "source": [
    "from sklearn.model_selection import train_test_split\n",
    "from sklearn.preprocessing import StandardScaler\n",
    "from catboost import CatBoostClassifier\n",
    "from sklearn.pipeline import Pipeline\n",
    "import matplotlib.pyplot as plt\n",
    "import seaborn as sns\n",
    "import pandas as pd\n",
    "import numpy as np\n",
    "import warnings\n",
    "import pathlib\n",
    "import os\n",
    "import gc\n",
    "\n",
    "%matplotlib inline\n",
    "sns.set()\n",
    "\n",
    "warnings.filterwarnings(\"ignore\")"
   ]
  },
  {
   "cell_type": "markdown",
   "id": "01db4255-e76b-4d96-b55a-1c0ee33c7a8d",
   "metadata": {},
   "source": [
    "## Этап 1: Импорт данных"
   ]
  },
  {
   "cell_type": "code",
   "execution_count": 2,
   "id": "955ac577-0b49-456d-88cc-85d00bc401e6",
   "metadata": {},
   "outputs": [
    {
     "name": "stdout",
     "output_type": "stream",
     "text": [
      "Список файлов в репозитории train: ['train_1.csv', 'train_2.csv', 'train_3.csv', 'train_4.csv', 'train_5.csv', 'train_6.csv', 'train_7.csv', 'train_8.csv', 'train_9.csv', 'train_10.csv', '.ipynb_checkpoints']\n",
      "Список файлов в репозитории test: ['test_1.csv', 'test_2.csv', 'test_3.csv', 'test_4.csv', 'test_5.csv', 'test_6.csv', 'test_7.csv', 'test_8.csv', 'test_9.csv', 'test_10.csv']\n"
     ]
    }
   ],
   "source": [
    "print(*[f'Список файлов в репозитории {x.split(\"/\")[-1]}: {sorted(os.listdir(x), key=lambda x: len(x))}' for x in [\"./train\", \"./test\"]], sep='\\n')"
   ]
  },
  {
   "cell_type": "code",
   "execution_count": 3,
   "id": "fa7101c6-dbb8-47cb-95be-c9029a4553f7",
   "metadata": {},
   "outputs": [
    {
     "name": "stdout",
     "output_type": "stream",
     "text": [
      "Размерность полных тренировочных данных составляет: 38731 строка и 421 столбец\n"
     ]
    }
   ],
   "source": [
    "# Получим список путей к файлам в папке train\n",
    "filenames_train = [x for x in sorted(os.listdir(\"./train\"), key=lambda x: len(x)) if x.endswith(\".csv\")]\n",
    "\n",
    "# Создадим список для записи считанных файлов train\n",
    "data_files_train = []\n",
    "\n",
    "# Считаем все файлы train и добавим их в список\n",
    "for filename in filenames_train:\n",
    "    # print(pathlib.Path.cwd().joinpath(\"./train\", filename))\n",
    "    data_files_train.append(pd.read_csv(pathlib.Path.cwd().joinpath(\"./train\", filename)))\n",
    "\n",
    "train_df = pd.concat(data_files_train, ignore_index=True)\n",
    "\n",
    "print('Размерность полных тренировочных данных составляет: {} строка и {} столбец'.format(*train_df.shape))"
   ]
  },
  {
   "cell_type": "code",
   "execution_count": 4,
   "id": "6a38c95b-482d-49ad-9296-a6bdabfd1d90",
   "metadata": {},
   "outputs": [
    {
     "name": "stdout",
     "output_type": "stream",
     "text": [
      "Размерность полных тренировочных данных составляет: 19826 строка и 420 столбец\n"
     ]
    }
   ],
   "source": [
    "# Получим список путей к файлам в папке test\n",
    "filenames_test = [x for x in sorted(os.listdir(\"./test\"), key=lambda x: len(x)) if x.endswith(\".csv\")]\n",
    "\n",
    "# Создадим список для записи считанных файлов test\n",
    "data_files_test = []\n",
    "\n",
    "# Считаем все файлы test и добавим их в список\n",
    "for filename in filenames_test:\n",
    "    # print(pathlib.Path.cwd().joinpath(\"./test\", filename))\n",
    "    data_files_test.append(pd.read_csv(pathlib.Path.cwd().joinpath(\"./test\", filename)))\n",
    "\n",
    "test_df = pd.concat(data_files_test, ignore_index=True)\n",
    "\n",
    "print('Размерность полных тренировочных данных составляет: {} строка и {} столбец'.format(*test_df.shape))"
   ]
  },
  {
   "cell_type": "code",
   "execution_count": 5,
   "id": "62d64eb4-9ed8-4aa7-b78d-1e2f41200a68",
   "metadata": {},
   "outputs": [],
   "source": [
    "FEATURE_COLUMNS = train_df.drop(columns=[\"target\", \"smpl\", \"id\"]).columns"
   ]
  },
  {
   "cell_type": "markdown",
   "id": "071f084c-d798-46a0-a609-1d00e57c3d05",
   "metadata": {},
   "source": [
    "## Этап 2: Обзор набора данных"
   ]
  },
  {
   "cell_type": "code",
   "execution_count": 6,
   "id": "962437bb-c971-407d-88b2-40b950b5a297",
   "metadata": {},
   "outputs": [
    {
     "name": "stdout",
     "output_type": "stream",
     "text": [
      "<class 'pandas.core.frame.DataFrame'>\n",
      "RangeIndex: 38731 entries, 0 to 38730\n",
      "Columns: 421 entries, target to feature_418\n",
      "dtypes: float64(418), int64(2), object(1)\n",
      "memory usage: 124.4+ MB\n"
     ]
    }
   ],
   "source": [
    "train_df.info()"
   ]
  },
  {
   "cell_type": "code",
   "execution_count": 7,
   "id": "456240b3-c65d-4226-9c2a-916988d79b93",
   "metadata": {},
   "outputs": [
    {
     "data": {
      "text/html": [
       "<div>\n",
       "<style scoped>\n",
       "    .dataframe tbody tr th:only-of-type {\n",
       "        vertical-align: middle;\n",
       "    }\n",
       "\n",
       "    .dataframe tbody tr th {\n",
       "        vertical-align: top;\n",
       "    }\n",
       "\n",
       "    .dataframe thead th {\n",
       "        text-align: right;\n",
       "    }\n",
       "</style>\n",
       "<table border=\"1\" class=\"dataframe\">\n",
       "  <thead>\n",
       "    <tr style=\"text-align: right;\">\n",
       "      <th></th>\n",
       "      <th>target</th>\n",
       "      <th>id</th>\n",
       "      <th>feature_1</th>\n",
       "      <th>feature_2</th>\n",
       "      <th>feature_3</th>\n",
       "      <th>feature_4</th>\n",
       "      <th>feature_5</th>\n",
       "      <th>feature_6</th>\n",
       "      <th>feature_7</th>\n",
       "      <th>feature_8</th>\n",
       "      <th>...</th>\n",
       "      <th>feature_409</th>\n",
       "      <th>feature_410</th>\n",
       "      <th>feature_411</th>\n",
       "      <th>feature_412</th>\n",
       "      <th>feature_413</th>\n",
       "      <th>feature_414</th>\n",
       "      <th>feature_415</th>\n",
       "      <th>feature_416</th>\n",
       "      <th>feature_417</th>\n",
       "      <th>feature_418</th>\n",
       "    </tr>\n",
       "  </thead>\n",
       "  <tbody>\n",
       "    <tr>\n",
       "      <th>count</th>\n",
       "      <td>38731.000000</td>\n",
       "      <td>38731.000000</td>\n",
       "      <td>38731.000000</td>\n",
       "      <td>38731.000000</td>\n",
       "      <td>38731.000000</td>\n",
       "      <td>38731.000000</td>\n",
       "      <td>38731.000000</td>\n",
       "      <td>38731.000000</td>\n",
       "      <td>38731.000000</td>\n",
       "      <td>38731.000000</td>\n",
       "      <td>...</td>\n",
       "      <td>38731.000000</td>\n",
       "      <td>38731.000000</td>\n",
       "      <td>38731.000000</td>\n",
       "      <td>38731.000000</td>\n",
       "      <td>38731.000000</td>\n",
       "      <td>38731.000000</td>\n",
       "      <td>38731.000000</td>\n",
       "      <td>38731.000000</td>\n",
       "      <td>38731.000000</td>\n",
       "      <td>38731.000000</td>\n",
       "    </tr>\n",
       "    <tr>\n",
       "      <th>mean</th>\n",
       "      <td>0.021766</td>\n",
       "      <td>19365.000000</td>\n",
       "      <td>-0.011868</td>\n",
       "      <td>-0.022720</td>\n",
       "      <td>0.240066</td>\n",
       "      <td>0.014769</td>\n",
       "      <td>0.002543</td>\n",
       "      <td>-0.121256</td>\n",
       "      <td>-0.021874</td>\n",
       "      <td>-0.212568</td>\n",
       "      <td>...</td>\n",
       "      <td>0.007855</td>\n",
       "      <td>-0.289571</td>\n",
       "      <td>0.046371</td>\n",
       "      <td>-0.011372</td>\n",
       "      <td>-0.045371</td>\n",
       "      <td>-0.009627</td>\n",
       "      <td>0.010300</td>\n",
       "      <td>-0.019660</td>\n",
       "      <td>-0.007003</td>\n",
       "      <td>-0.026602</td>\n",
       "    </tr>\n",
       "    <tr>\n",
       "      <th>std</th>\n",
       "      <td>0.145919</td>\n",
       "      <td>11180.820975</td>\n",
       "      <td>0.992397</td>\n",
       "      <td>0.991483</td>\n",
       "      <td>0.427129</td>\n",
       "      <td>1.006943</td>\n",
       "      <td>1.008098</td>\n",
       "      <td>0.983779</td>\n",
       "      <td>0.979137</td>\n",
       "      <td>0.935391</td>\n",
       "      <td>...</td>\n",
       "      <td>0.994804</td>\n",
       "      <td>0.806576</td>\n",
       "      <td>0.250005</td>\n",
       "      <td>0.998106</td>\n",
       "      <td>0.978557</td>\n",
       "      <td>0.972842</td>\n",
       "      <td>1.006719</td>\n",
       "      <td>0.990136</td>\n",
       "      <td>1.004295</td>\n",
       "      <td>0.987498</td>\n",
       "    </tr>\n",
       "    <tr>\n",
       "      <th>min</th>\n",
       "      <td>0.000000</td>\n",
       "      <td>0.000000</td>\n",
       "      <td>-5.199338</td>\n",
       "      <td>-5.199338</td>\n",
       "      <td>0.000000</td>\n",
       "      <td>-5.199338</td>\n",
       "      <td>-5.199338</td>\n",
       "      <td>-5.199338</td>\n",
       "      <td>-5.199338</td>\n",
       "      <td>-5.199338</td>\n",
       "      <td>...</td>\n",
       "      <td>-3.232688</td>\n",
       "      <td>-5.199338</td>\n",
       "      <td>0.000000</td>\n",
       "      <td>-5.199338</td>\n",
       "      <td>-5.199338</td>\n",
       "      <td>-5.199338</td>\n",
       "      <td>-5.199338</td>\n",
       "      <td>-3.408886</td>\n",
       "      <td>-5.199338</td>\n",
       "      <td>-5.199338</td>\n",
       "    </tr>\n",
       "    <tr>\n",
       "      <th>25%</th>\n",
       "      <td>0.000000</td>\n",
       "      <td>9682.500000</td>\n",
       "      <td>-0.681368</td>\n",
       "      <td>-0.693879</td>\n",
       "      <td>0.000000</td>\n",
       "      <td>-0.667434</td>\n",
       "      <td>-0.684292</td>\n",
       "      <td>-0.777239</td>\n",
       "      <td>-0.671211</td>\n",
       "      <td>-0.833827</td>\n",
       "      <td>...</td>\n",
       "      <td>-0.671584</td>\n",
       "      <td>-0.816589</td>\n",
       "      <td>0.000000</td>\n",
       "      <td>-0.694098</td>\n",
       "      <td>-0.700684</td>\n",
       "      <td>-0.676811</td>\n",
       "      <td>-0.676359</td>\n",
       "      <td>-0.687918</td>\n",
       "      <td>-0.678918</td>\n",
       "      <td>-0.692241</td>\n",
       "    </tr>\n",
       "    <tr>\n",
       "      <th>50%</th>\n",
       "      <td>0.000000</td>\n",
       "      <td>19365.000000</td>\n",
       "      <td>-0.014384</td>\n",
       "      <td>-0.014327</td>\n",
       "      <td>0.000000</td>\n",
       "      <td>0.025820</td>\n",
       "      <td>0.005269</td>\n",
       "      <td>-0.166902</td>\n",
       "      <td>-0.021997</td>\n",
       "      <td>-0.207170</td>\n",
       "      <td>...</td>\n",
       "      <td>0.017161</td>\n",
       "      <td>-0.216972</td>\n",
       "      <td>0.000000</td>\n",
       "      <td>-0.016165</td>\n",
       "      <td>-0.035410</td>\n",
       "      <td>-0.000174</td>\n",
       "      <td>0.020541</td>\n",
       "      <td>-0.018817</td>\n",
       "      <td>-0.012701</td>\n",
       "      <td>-0.030068</td>\n",
       "    </tr>\n",
       "    <tr>\n",
       "      <th>75%</th>\n",
       "      <td>0.000000</td>\n",
       "      <td>29047.500000</td>\n",
       "      <td>0.658456</td>\n",
       "      <td>0.651838</td>\n",
       "      <td>0.000000</td>\n",
       "      <td>0.706342</td>\n",
       "      <td>0.682534</td>\n",
       "      <td>0.566233</td>\n",
       "      <td>0.637608</td>\n",
       "      <td>0.407831</td>\n",
       "      <td>...</td>\n",
       "      <td>0.681021</td>\n",
       "      <td>0.320220</td>\n",
       "      <td>0.000000</td>\n",
       "      <td>0.667831</td>\n",
       "      <td>0.629747</td>\n",
       "      <td>0.645590</td>\n",
       "      <td>0.694864</td>\n",
       "      <td>0.655448</td>\n",
       "      <td>0.666673</td>\n",
       "      <td>0.657315</td>\n",
       "    </tr>\n",
       "    <tr>\n",
       "      <th>max</th>\n",
       "      <td>1.000000</td>\n",
       "      <td>38730.000000</td>\n",
       "      <td>5.199338</td>\n",
       "      <td>5.199338</td>\n",
       "      <td>1.000000</td>\n",
       "      <td>5.199338</td>\n",
       "      <td>5.199338</td>\n",
       "      <td>2.722168</td>\n",
       "      <td>5.199338</td>\n",
       "      <td>5.199338</td>\n",
       "      <td>...</td>\n",
       "      <td>5.199338</td>\n",
       "      <td>1.395742</td>\n",
       "      <td>2.000000</td>\n",
       "      <td>5.199338</td>\n",
       "      <td>5.199338</td>\n",
       "      <td>5.199338</td>\n",
       "      <td>5.199338</td>\n",
       "      <td>5.199338</td>\n",
       "      <td>5.199338</td>\n",
       "      <td>3.585167</td>\n",
       "    </tr>\n",
       "  </tbody>\n",
       "</table>\n",
       "<p>8 rows × 420 columns</p>\n",
       "</div>"
      ],
      "text/plain": [
       "             target            id     feature_1     feature_2     feature_3  \\\n",
       "count  38731.000000  38731.000000  38731.000000  38731.000000  38731.000000   \n",
       "mean       0.021766  19365.000000     -0.011868     -0.022720      0.240066   \n",
       "std        0.145919  11180.820975      0.992397      0.991483      0.427129   \n",
       "min        0.000000      0.000000     -5.199338     -5.199338      0.000000   \n",
       "25%        0.000000   9682.500000     -0.681368     -0.693879      0.000000   \n",
       "50%        0.000000  19365.000000     -0.014384     -0.014327      0.000000   \n",
       "75%        0.000000  29047.500000      0.658456      0.651838      0.000000   \n",
       "max        1.000000  38730.000000      5.199338      5.199338      1.000000   \n",
       "\n",
       "          feature_4     feature_5     feature_6     feature_7     feature_8  \\\n",
       "count  38731.000000  38731.000000  38731.000000  38731.000000  38731.000000   \n",
       "mean       0.014769      0.002543     -0.121256     -0.021874     -0.212568   \n",
       "std        1.006943      1.008098      0.983779      0.979137      0.935391   \n",
       "min       -5.199338     -5.199338     -5.199338     -5.199338     -5.199338   \n",
       "25%       -0.667434     -0.684292     -0.777239     -0.671211     -0.833827   \n",
       "50%        0.025820      0.005269     -0.166902     -0.021997     -0.207170   \n",
       "75%        0.706342      0.682534      0.566233      0.637608      0.407831   \n",
       "max        5.199338      5.199338      2.722168      5.199338      5.199338   \n",
       "\n",
       "       ...   feature_409   feature_410   feature_411   feature_412  \\\n",
       "count  ...  38731.000000  38731.000000  38731.000000  38731.000000   \n",
       "mean   ...      0.007855     -0.289571      0.046371     -0.011372   \n",
       "std    ...      0.994804      0.806576      0.250005      0.998106   \n",
       "min    ...     -3.232688     -5.199338      0.000000     -5.199338   \n",
       "25%    ...     -0.671584     -0.816589      0.000000     -0.694098   \n",
       "50%    ...      0.017161     -0.216972      0.000000     -0.016165   \n",
       "75%    ...      0.681021      0.320220      0.000000      0.667831   \n",
       "max    ...      5.199338      1.395742      2.000000      5.199338   \n",
       "\n",
       "        feature_413   feature_414   feature_415   feature_416   feature_417  \\\n",
       "count  38731.000000  38731.000000  38731.000000  38731.000000  38731.000000   \n",
       "mean      -0.045371     -0.009627      0.010300     -0.019660     -0.007003   \n",
       "std        0.978557      0.972842      1.006719      0.990136      1.004295   \n",
       "min       -5.199338     -5.199338     -5.199338     -3.408886     -5.199338   \n",
       "25%       -0.700684     -0.676811     -0.676359     -0.687918     -0.678918   \n",
       "50%       -0.035410     -0.000174      0.020541     -0.018817     -0.012701   \n",
       "75%        0.629747      0.645590      0.694864      0.655448      0.666673   \n",
       "max        5.199338      5.199338      5.199338      5.199338      5.199338   \n",
       "\n",
       "        feature_418  \n",
       "count  38731.000000  \n",
       "mean      -0.026602  \n",
       "std        0.987498  \n",
       "min       -5.199338  \n",
       "25%       -0.692241  \n",
       "50%       -0.030068  \n",
       "75%        0.657315  \n",
       "max        3.585167  \n",
       "\n",
       "[8 rows x 420 columns]"
      ]
     },
     "execution_count": 7,
     "metadata": {},
     "output_type": "execute_result"
    }
   ],
   "source": [
    "train_df.describe()"
   ]
  },
  {
   "cell_type": "code",
   "execution_count": 8,
   "id": "58f3a285-4d49-4684-9a3a-4ac56b8cc7d7",
   "metadata": {},
   "outputs": [
    {
     "name": "stdout",
     "output_type": "stream",
     "text": [
      "Отсутствующие значения в наборе данных поездов: 0\n",
      "Отсутствующие значения в наборе данных поездов: 0\n"
     ]
    }
   ],
   "source": [
    "print('Отсутствующие значения в наборе данных поездов:', sum(train_df.isnull().sum()))\n",
    "print('Отсутствующие значения в наборе данных поездов:', sum(test_df.isnull().sum()))"
   ]
  },
  {
   "cell_type": "markdown",
   "id": "989f8a2f-adbb-4201-8412-98e13980cd69",
   "metadata": {},
   "source": [
    "## Этап 3: Обзор признаков"
   ]
  },
  {
   "cell_type": "markdown",
   "id": "3ab0a6f5-c985-4643-9302-368427aa17ec",
   "metadata": {},
   "source": [
    "### Распределение таргетов"
   ]
  },
  {
   "cell_type": "code",
   "execution_count": 9,
   "id": "e18d6f28-b34e-455c-911c-de30660903f5",
   "metadata": {},
   "outputs": [
    {
     "data": {
      "text/plain": [
       "<Axes: xlabel='target', ylabel='count'>"
      ]
     },
     "execution_count": 9,
     "metadata": {},
     "output_type": "execute_result"
    },
    {
     "data": {
      "image/png": "[encoded data removed]",
      "text/plain": [
       "<Figure size 640x480 with 1 Axes>"
      ]
     },
     "metadata": {},
     "output_type": "display_data"
    }
   ],
   "source": [
    "sns.countplot(data=train_df, x=\"target\")"
   ]
  },
  {
   "cell_type": "markdown",
   "id": "d93f57bf-c0db-4f3a-a249-2bf29e0678f1",
   "metadata": {},
   "source": [
    "Таргеты распределены неравномерно"
   ]
  },
  {
   "cell_type": "code",
   "execution_count": 10,
   "id": "494b1268-67e9-4534-8c12-546b29f2cdc7",
   "metadata": {},
   "outputs": [
    {
     "data": {
      "text/plain": [
       "target\n",
       "0    37888\n",
       "1      843\n",
       "Name: count, dtype: int64"
      ]
     },
     "execution_count": 10,
     "metadata": {},
     "output_type": "execute_result"
    }
   ],
   "source": [
    "train_df[\"target\"].value_counts()"
   ]
  },
  {
   "cell_type": "markdown",
   "id": "b514eed2-529f-4f54-a38b-a1b2c41f549c",
   "metadata": {},
   "source": [
    "### Корреляция признаков с таргетом"
   ]
  },
  {
   "cell_type": "code",
   "execution_count": 11,
   "id": "024a495d-b46b-4d71-ba4c-fde11c1e6157",
   "metadata": {},
   "outputs": [
    {
     "name": "stdout",
     "output_type": "stream",
     "text": [
      "Количество прзнаков: 122\n"
     ]
    },
    {
     "data": {
      "image/png": "[encoded data removed]",
      "text/plain": [
       "<Figure size 640x480 with 1 Axes>"
      ]
     },
     "metadata": {},
     "output_type": "display_data"
    }
   ],
   "source": [
    "corr_target = [(col, round(abs(float(np.corrcoef(train_df['target'], train_df[col])[0][1])), 4)) for col in FEATURE_COLUMNS]\n",
    "sns.histplot([x[1] for x in corr_target], binwidth=0.001)\n",
    "plt.axvline(x=0.02, color=\"r\", linestyle=\"--\")\n",
    "\n",
    "# На основе визуального анализа получим из выборки все признаки с корреляцией от 0.02\n",
    "FEATURE_COLUMNS_TARGET_CORR = [x[0] for x in corr_target if x[1] >= 0.02]\n",
    "print(f\"Количество прзнаков: {len(FEATURE_COLUMNS_TARGET_CORR)}\")"
   ]
  },
  {
   "cell_type": "markdown",
   "id": "a7602368-396b-4a86-970a-a88994dcc739",
   "metadata": {},
   "source": [
    "### Корреляция между признаками"
   ]
  },
  {
   "cell_type": "code",
   "execution_count": 12,
   "id": "85ff447d-eea0-48a0-86e5-c0a836316182",
   "metadata": {},
   "outputs": [],
   "source": [
    "# Получим матрицу корреляций\n",
    "corr_matrix = train_df[FEATURE_COLUMNS_TARGET_CORR].corr()"
   ]
  },
  {
   "cell_type": "code",
   "execution_count": 13,
   "id": "3c9bedfa-2658-470a-a766-4087fe95a041",
   "metadata": {},
   "outputs": [],
   "source": [
    "# Создадим список пар признаков и их корреляций и отсортируем его по убыванию\n",
    "# Получим все значения где показатель корреляции превышает порог:\n",
    "threshold = .9\n",
    "\n",
    "corr = []\n",
    "for i in range(len(corr_matrix.columns)):\n",
    "    for j in range(i+1, len(corr_matrix.columns)):\n",
    "        corr_value = abs(corr_matrix.iloc[i, j])\n",
    "        if corr_value >= threshold:\n",
    "            corr.append((corr_matrix.columns[i], corr_matrix.columns[j], corr_value))\n",
    "            \n",
    "corr = np.array(sorted(corr, key=lambda x: x[2], reverse=True))"
   ]
  },
  {
   "cell_type": "code",
   "execution_count": 14,
   "id": "38e6b1dc-d3db-4c61-9337-48a4972bf788",
   "metadata": {},
   "outputs": [
    {
     "name": "stdout",
     "output_type": "stream",
     "text": [
      "Количество признаков: 8\n",
      "feature_101 feature_17 feature_372 feature_3 feature_358 feature_341 feature_366 feature_135\n"
     ]
    }
   ],
   "source": [
    "from scipy.stats import pearsonr\n",
    "\n",
    "# Получим список самых коррелирующих признаков. Оставляем значения с меньшим p-value\n",
    "most_corr_features = []\n",
    "\n",
    "for f_1, f_2, _ in corr:\n",
    "    if f_1 in most_corr_features or f_2 in most_corr_features:        \n",
    "        continue\n",
    "    else:\n",
    "        if pearsonr(train_df[f_1], train_df[\"target\"])[1] > pearsonr(train_df[f_2], train_df[\"target\"])[1]:\n",
    "            most_corr_features.append(f_1)\n",
    "        else:\n",
    "            most_corr_features.append(f_2)\n",
    "            \n",
    "print(f\"Количество признаков: {len(most_corr_features)}\")    \n",
    "print(*most_corr_features)"
   ]
  },
  {
   "cell_type": "markdown",
   "id": "2f0cb84b-a2dd-446d-83bd-a7c9215aa91e",
   "metadata": {},
   "source": [
    "## Этап 4: Отбор признаков"
   ]
  },
  {
   "cell_type": "code",
   "execution_count": 15,
   "id": "b8fefa73-35ba-4992-adee-271d9978c255",
   "metadata": {},
   "outputs": [
    {
     "name": "stdout",
     "output_type": "stream",
     "text": [
      "Количество признаков: 114\n"
     ]
    }
   ],
   "source": [
    "# Возьмем признаки с высокой корреляцией с таргетом и удалим из них самые коррелирующие между собой признаки\n",
    "FEATURE_COLUMNS_WITHOUT_CORR = list(set(FEATURE_COLUMNS_TARGET_CORR) - set(most_corr_features))\n",
    "print(f\"Количество признаков: {len(FEATURE_COLUMNS_WITHOUT_CORR)}\")  "
   ]
  },
  {
   "cell_type": "markdown",
   "id": "577f2bdd-610e-46be-9d4d-e82fb1c58f30",
   "metadata": {},
   "source": [
    "#### Метод SelectKBest"
   ]
  },
  {
   "cell_type": "code",
   "execution_count": 16,
   "id": "fb52506a-3025-4dca-a706-8403279cb9c8",
   "metadata": {},
   "outputs": [],
   "source": [
    "from sklearn.feature_selection import f_classif, RFECV, SelectKBest, mutual_info_classif"
   ]
  },
  {
   "cell_type": "code",
   "execution_count": 17,
   "id": "e41ef6a2-d1d5-4c5d-a0d3-95c78581842c",
   "metadata": {},
   "outputs": [],
   "source": [
    "selector = SelectKBest(mutual_info_classif, k=20)\n",
    "selector.fit(train_df[FEATURE_COLUMNS_WITHOUT_CORR], train_df[\"target\"])\n",
    "BEST_FEATURES_SKB = selector.get_feature_names_out()"
   ]
  },
  {
   "cell_type": "markdown",
   "id": "36f07977-e047-49a3-a5a1-7a71a8fe72d1",
   "metadata": {},
   "source": [
    "#### Метод RFECV"
   ]
  },
  {
   "cell_type": "code",
   "execution_count": 18,
   "id": "2c094fea-45c4-43a5-93ad-1b1955a10933",
   "metadata": {},
   "outputs": [],
   "source": [
    "from sklearn.feature_selection import RFECV\n",
    "from sklearn.linear_model import LogisticRegression\n",
    "from sklearn.model_selection import StratifiedKFold"
   ]
  },
  {
   "cell_type": "code",
   "execution_count": 19,
   "id": "225b9727-1088-4460-92e6-789d4fc124a8",
   "metadata": {},
   "outputs": [
    {
     "name": "stdout",
     "output_type": "stream",
     "text": [
      "Количество прзнаков по RFECV: 23\n"
     ]
    }
   ],
   "source": [
    "min_features_to_select = 10\n",
    "clf = LogisticRegression()\n",
    "cv = StratifiedKFold(5)\n",
    "\n",
    "rfecv = RFECV(\n",
    "    estimator=clf,\n",
    "    step=7,\n",
    "    cv=cv,\n",
    "    scoring=\"roc_auc\",\n",
    "    min_features_to_select=min_features_to_select,\n",
    "    n_jobs=-1,\n",
    ")\n",
    "\n",
    "rfecv.fit(train_df[FEATURE_COLUMNS_WITHOUT_CORR], train_df[\"target\"])\n",
    "BEST_FEATURES_RFECV = rfecv.get_feature_names_out()\n",
    "print(f\"Количество прзнаков по RFECV: {len(BEST_FEATURES_RFECV)}\")"
   ]
  },
  {
   "cell_type": "code",
   "execution_count": null,
   "id": "c395c364-40a6-4daf-986a-546ead67c3d6",
   "metadata": {},
   "outputs": [],
   "source": []
  }
 ],
 "metadata": {
  "kernelspec": {
   "display_name": "Python 3 (ipykernel)",
   "language": "python",
   "name": "python3"
  },
  "language_info": {
   "codemirror_mode": {
    "name": "ipython",
    "version": 3
   },
   "file_extension": ".py",
   "mimetype": "text/x-python",
   "name": "python",
   "nbconvert_exporter": "python",
   "pygments_lexer": "ipython3",
   "version": "3.11.9"
  }
 },
 "nbformat": 4,
 "nbformat_minor": 5
}
