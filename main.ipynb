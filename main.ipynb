{
 "cells": [
  {
   "cell_type": "markdown",
   "id": "d5b1e001-a3ec-4811-bc12-ad5f9235cc47",
   "metadata": {},
   "source": [
    "# Кредитный скоринг юридических лиц"
   ]
  },
  {
   "cell_type": "markdown",
   "id": "2b5aea8d-a367-4b7f-87e0-4747acf0f3c3",
   "metadata": {},
   "source": [
    "## Задача: Разработать модель кредитного скоринга юридического лица. Модель должна позволить определить, следует ли выдавать кредит юридическому лицу по заданным признакам"
   ]
  },
  {
   "cell_type": "code",
   "execution_count": 1,
   "id": "bf13b804-3dc1-405b-9133-5b6ea3912bd8",
   "metadata": {},
   "outputs": [],
   "source": [
    "import seaborn as sns\n",
    "import pandas as pd\n",
    "import pathlib\n",
    "import os\n",
    "\n",
    "sns.set()"
   ]
  },
  {
   "cell_type": "markdown",
   "id": "01db4255-e76b-4d96-b55a-1c0ee33c7a8d",
   "metadata": {},
   "source": [
    "### Этап 1: Импорт данных"
   ]
  },
  {
   "cell_type": "code",
   "execution_count": 2,
   "id": "955ac577-0b49-456d-88cc-85d00bc401e6",
   "metadata": {},
   "outputs": [
    {
     "name": "stdout",
     "output_type": "stream",
     "text": [
      "Список файлов в репозитории train: ['train_1.csv', 'train_2.csv', 'train_3.csv', 'train_4.csv', 'train_5.csv', 'train_6.csv', 'train_7.csv', 'train_8.csv', 'train_9.csv', 'train_10.csv', '.ipynb_checkpoints']\n",
      "Список файлов в репозитории test: ['test_1.csv', 'test_2.csv', 'test_3.csv', 'test_4.csv', 'test_5.csv', 'test_6.csv', 'test_7.csv', 'test_8.csv', 'test_9.csv', 'test_10.csv']\n"
     ]
    }
   ],
   "source": [
    "print(*[f'Список файлов в репозитории {x.split(\"/\")[-1]}: {sorted(os.listdir(x), key=lambda x: len(x))}' for x in [\"./train\", \"./test\"]], sep='\\n')"
   ]
  },
  {
   "cell_type": "code",
   "execution_count": 3,
   "id": "fa7101c6-dbb8-47cb-95be-c9029a4553f7",
   "metadata": {},
   "outputs": [
    {
     "name": "stdout",
     "output_type": "stream",
     "text": [
      "Размерность полных тренировочных данных составляет: 38731 строка и 421 столбец\n"
     ]
    }
   ],
   "source": [
    "# Получим список путей к файлам в папке train\n",
    "filenames_train = [x for x in sorted(os.listdir(\"./train\"), key=lambda x: len(x)) if x.endswith(\".csv\")]\n",
    "\n",
    "# Создадим список для записи считанных файлов train\n",
    "data_files_train = []\n",
    "\n",
    "# Считаем все файлы train и добавим их в список\n",
    "for filename in filenames_train:\n",
    "    # print(pathlib.Path.cwd().joinpath(\"./train\", filename))\n",
    "    data_files_train.append(pd.read_csv(pathlib.Path.cwd().joinpath(\"./train\", filename)))\n",
    "\n",
    "train_df = pd.concat(data_files_train, ignore_index=True)\n",
    "\n",
    "print('Размерность полных тренировочных данных составляет: {} строка и {} столбец'.format(*train_df.shape))"
   ]
  },
  {
   "cell_type": "code",
   "execution_count": 4,
   "id": "6a38c95b-482d-49ad-9296-a6bdabfd1d90",
   "metadata": {},
   "outputs": [
    {
     "name": "stdout",
     "output_type": "stream",
     "text": [
      "Размерность полных тренировочных данных составляет: 19826 строка и 420 столбец\n"
     ]
    }
   ],
   "source": [
    "# Получим список путей к файлам в папке test\n",
    "filenames_test = [x for x in sorted(os.listdir(\"./test\"), key=lambda x: len(x)) if x.endswith(\".csv\")]\n",
    "\n",
    "# Создадим список для записи считанных файлов test\n",
    "data_files_test = []\n",
    "\n",
    "# Считаем все файлы test и добавим их в список\n",
    "for filename in filenames_test:\n",
    "    # print(pathlib.Path.cwd().joinpath(\"./test\", filename))\n",
    "    data_files_test.append(pd.read_csv(pathlib.Path.cwd().joinpath(\"./test\", filename)))\n",
    "\n",
    "test_df = pd.concat(data_files_test, ignore_index=True)\n",
    "\n",
    "print('Размерность полных тренировочных данных составляет: {} строка и {} столбец'.format(*test_df.shape))"
   ]
  },
  {
   "cell_type": "markdown",
   "id": "f4a05a36-525e-49f4-8404-a7b4cf47cd6f",
   "metadata": {},
   "source": [
    "### Этап 2: Обзор набора данных"
   ]
  },
  {
   "cell_type": "code",
   "execution_count": 5,
   "id": "962437bb-c971-407d-88b2-40b950b5a297",
   "metadata": {},
   "outputs": [
    {
     "name": "stdout",
     "output_type": "stream",
     "text": [
      "<class 'pandas.core.frame.DataFrame'>\n",
      "RangeIndex: 38731 entries, 0 to 38730\n",
      "Columns: 421 entries, target to feature_418\n",
      "dtypes: float64(418), int64(2), object(1)\n",
      "memory usage: 124.4+ MB\n"
     ]
    }
   ],
   "source": [
    "train_df.info()"
   ]
  },
  {
   "cell_type": "code",
   "execution_count": 6,
   "id": "456240b3-c65d-4226-9c2a-916988d79b93",
   "metadata": {},
   "outputs": [],
   "source": [
    "# train_df.describe()"
   ]
  },
  {
   "cell_type": "code",
   "execution_count": 7,
   "id": "58f3a285-4d49-4684-9a3a-4ac56b8cc7d7",
   "metadata": {},
   "outputs": [
    {
     "name": "stdout",
     "output_type": "stream",
     "text": [
      "Отсутствующие значения в наборе данных поездов: 0\n",
      "Отсутствующие значения в наборе данных поездов: 0\n"
     ]
    }
   ],
   "source": [
    "print('Отсутствующие значения в наборе данных поездов:', sum(train_df.isnull().sum()))\n",
    "print('Отсутствующие значения в наборе данных поездов:', sum(test_df.isnull().sum()))"
   ]
  },
  {
   "cell_type": "markdown",
   "id": "989f8a2f-adbb-4201-8412-98e13980cd69",
   "metadata": {},
   "source": [
    "### Этап 3: Обзор признаков"
   ]
  },
  {
   "cell_type": "code",
   "execution_count": 8,
   "id": "ce79a2fd-2fd0-4ad7-a684-016b90cea85d",
   "metadata": {},
   "outputs": [],
   "source": [
    "# sns.set(rc={\"figure.figsize\": (50, 20)})\n",
    "# sns.heatmap(train_df.drop(\n",
    "#     columns=[\"target\", \"smpl\", \"id\"]).corr(),  \n",
    "#     fmt = \".1g\", \n",
    "#     annot = False,\n",
    "#     cmap= 'coolwarm',\n",
    "#     cbar=False,\n",
    "# )\n",
    "corr_matrix = train_df.drop(columns=[\"target\", \"smpl\", \"id\"]).corr()"
   ]
  },
  {
   "cell_type": "code",
   "execution_count": 10,
   "id": "e63a8de3-3321-48a0-ad4a-8e20207436aa",
   "metadata": {},
   "outputs": [
    {
     "data": {
      "text/plain": [
       "feature_1    feature_1      1.000000e+00\n",
       "feature_210  feature_210    1.000000e+00\n",
       "feature_134  feature_134    1.000000e+00\n",
       "feature_135  feature_135    1.000000e+00\n",
       "feature_136  feature_136    1.000000e+00\n",
       "                                ...     \n",
       "feature_149  feature_5      4.527810e-07\n",
       "feature_147  feature_298    4.473353e-07\n",
       "feature_298  feature_147    4.473353e-07\n",
       "feature_88   feature_367    1.529711e-07\n",
       "feature_367  feature_88     1.529711e-07\n",
       "Length: 174724, dtype: float64"
      ]
     },
     "execution_count": 10,
     "metadata": {},
     "output_type": "execute_result"
    }
   ],
   "source": [
    "abs_corr = corr_matrix.abs().unstack()\n",
    "abs_corr.sort_values(ascending=False)"
   ]
  },
  {
   "cell_type": "code",
   "execution_count": null,
   "id": "a061e7ac-a307-40fb-9d34-020e4505a475",
   "metadata": {},
   "outputs": [],
   "source": []
  }
 ],
 "metadata": {
  "kernelspec": {
   "display_name": "Python 3 (ipykernel)",
   "language": "python",
   "name": "python3"
  },
  "language_info": {
   "codemirror_mode": {
    "name": "ipython",
    "version": 3
   },
   "file_extension": ".py",
   "mimetype": "text/x-python",
   "name": "python",
   "nbconvert_exporter": "python",
   "pygments_lexer": "ipython3",
   "version": "3.11.9"
  }
 },
 "nbformat": 4,
 "nbformat_minor": 5
}
